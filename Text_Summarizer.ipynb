{
  "nbformat": 4,
  "nbformat_minor": 0,
  "metadata": {
    "colab": {
      "provenance": []
    },
    "kernelspec": {
      "name": "python3",
      "display_name": "Python 3"
    },
    "language_info": {
      "name": "python"
    }
  },
  "cells": [
    {
      "cell_type": "code",
      "execution_count": null,
      "metadata": {
        "colab": {
          "base_uri": "https://localhost:8080/"
        },
        "id": "6RxTCy55JWaZ",
        "outputId": "b3e11491-2863-4549-f47e-18469c66d5d3"
      },
      "outputs": [
        {
          "output_type": "stream",
          "name": "stdout",
          "text": [
            "📃 Simple Text Summarizer\n",
            "Paste a paragraph you'd like to summarize:\n",
            "\n",
            "Your text: Artificial Intelligence (AI) is transforming industries by enabling machines to learn from data and make decisions. From healthcare to finance, AI-powered tools are improving efficiency and accuracy. Companies are investing heavily in AI research and development to stay ahead of the competition. As AI continues to evolve, it is also raising important ethical and societal questions that need careful consideration.\"\n",
            "How many sentences should the summary contain? (e.g., 2): 2\n",
            "\n",
            "📌 Summary:\n",
            "Artificial Intelligence (AI) is transforming industries by enabling machines to learn from data and make decisions. As AI continues to evolve, it is also raising important ethical and societal questions that need careful consideration.\"\n"
          ]
        }
      ],
      "source": [
        "import re\n",
        "from collections import defaultdict\n",
        "\n",
        "def summarize_text(text, num_sentences=2):\n",
        "    sentences = re.split(r'(?<=[.!?]) +', text)\n",
        "    word_freq = defaultdict(int)\n",
        "\n",
        "    for word in re.findall(r'\\w+', text.lower()):\n",
        "        if len(word) > 3:\n",
        "            word_freq[word] += 1\n",
        "\n",
        "    sentence_scores = {}\n",
        "    for sentence in sentences:\n",
        "        score = 0\n",
        "        words = re.findall(r'\\w+', sentence.lower())\n",
        "        for word in words:\n",
        "            score += word_freq.get(word, 0)\n",
        "        sentence_scores[sentence] = score\n",
        "\n",
        "    top_sentences = sorted(sentence_scores, key=sentence_scores.get, reverse=True)[:num_sentences]\n",
        "    return ' '.join(top_sentences)\n",
        "\n",
        "# === User Input ===\n",
        "print(\"📃 Simple Text Summarizer\")\n",
        "print(\"Paste a paragraph you'd like to summarize:\")\n",
        "user_text = input(\"\\nYour text: \")\n",
        "\n",
        "try:\n",
        "    n = int(input(\"How many sentences should the summary contain? (e.g., 2): \"))\n",
        "except:\n",
        "    n = 2\n",
        "\n",
        "summary = summarize_text(user_text, num_sentences=n)\n",
        "print(\"\\n📌 Summary:\")\n",
        "print(summary)\n"
      ]
    }
  ]
}